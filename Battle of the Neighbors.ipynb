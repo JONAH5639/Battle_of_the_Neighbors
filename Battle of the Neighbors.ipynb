{
 "cells": [
  {
   "cell_type": "markdown",
   "metadata": {},
   "source": [
    "# Introduction and Business problem"
   ]
  },
  {
   "cell_type": "markdown",
   "metadata": {},
   "source": [
    "The Triangle Investment group seeks to diversify their portfolio by increasing the amount of gas stations and restaurants owned in their portfolio . The request from the board is that economic data be collected on Toronto and New York. Citites should be segmented by Education and income. Theoretically, young executives spend disposable income on bars, restaurants and own cars.\n",
    "Finding correlation between these datasets may prove valuable."
   ]
  },
  {
   "cell_type": "markdown",
   "metadata": {},
   "source": [
    "# Relevant Datasets"
   ]
  },
  {
   "cell_type": "code",
   "execution_count": null,
   "metadata": {},
   "outputs": [],
   "source": [
    "Finding all the relevant datasets at the moment is challenging, however Foursquare already allows us to find restaurants and gas stations.\n",
    "Median income will be derived from a relelvant dataset for meidan income per city."
   ]
  }
 ],
 "metadata": {
  "kernelspec": {
   "display_name": "Python 3",
   "language": "python",
   "name": "python3"
  },
  "language_info": {
   "codemirror_mode": {
    "name": "ipython",
    "version": 3
   },
   "file_extension": ".py",
   "mimetype": "text/x-python",
   "name": "python",
   "nbconvert_exporter": "python",
   "pygments_lexer": "ipython3",
   "version": "3.7.1"
  }
 },
 "nbformat": 4,
 "nbformat_minor": 2
}
